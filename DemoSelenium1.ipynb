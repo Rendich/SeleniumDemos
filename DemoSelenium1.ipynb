{
 "cells": [
  {
   "cell_type": "markdown",
   "metadata": {},
   "source": [
    "# Selenium: Basic Demo"
   ]
  },
  {
   "cell_type": "markdown",
   "metadata": {},
   "source": [
    "This first example run on Mac with Chrome.  \n",
    "It assume the the \"chromedriver\" is in current directory (\"./chromedriver\")."
   ]
  },
  {
   "cell_type": "markdown",
   "metadata": {},
   "source": [
    "First, check your Chrome version. In this example it'll be **84** (https://chromedriver.storage.googleapis.com/index.html?path=84.0.4147.30/)."
   ]
  },
  {
   "cell_type": "markdown",
   "metadata": {},
   "source": [
    "## Install"
   ]
  },
  {
   "cell_type": "code",
   "execution_count": null,
   "metadata": {},
   "outputs": [],
   "source": [
    "# If you need to download in mac, for Chrome 84.\n",
    "!wget https://chromedriver.storage.googleapis.com/84.0.4147.30/chromedriver_mac64.zip  && unzip chromedriver_mac64"
   ]
  },
  {
   "cell_type": "markdown",
   "metadata": {},
   "source": [
    "## Open a (normal) window"
   ]
  },
  {
   "cell_type": "code",
   "execution_count": null,
   "metadata": {},
   "outputs": [],
   "source": [
    "from selenium import webdriver\n",
    "\n",
    "browser = webdriver.Chrome(\"./chromedriver\")\n",
    "browser.get('http://www.google.com')\n"
   ]
  },
  {
   "cell_type": "markdown",
   "metadata": {},
   "source": [
    "## Open a incognito window"
   ]
  },
  {
   "cell_type": "code",
   "execution_count": null,
   "metadata": {},
   "outputs": [],
   "source": [
    "from selenium import webdriver\n",
    "\n",
    "chrome_options = webdriver.ChromeOptions()\n",
    "chrome_options.add_argument(\"--incognito\")\n",
    "\n",
    "browser = webdriver.Chrome(\"./chromedriver\", chrome_options=chrome_options)\n",
    "\n",
    "browser.implicitly_wait(2)\n",
    "browser.maximize_window()\n",
    "\n",
    "browser.get('http://www.google.com')"
   ]
  },
  {
   "cell_type": "markdown",
   "metadata": {},
   "source": [
    "## Some validations"
   ]
  },
  {
   "cell_type": "markdown",
   "metadata": {},
   "source": [
    "### Check a title"
   ]
  },
  {
   "cell_type": "code",
   "execution_count": null,
   "metadata": {},
   "outputs": [],
   "source": [
    "from selenium import webdriver\n",
    "\n",
    "chrome_options = webdriver.ChromeOptions()\n",
    "chrome_options.add_argument(\"--incognito\")\n",
    "\n",
    "browser = webdriver.Chrome(\"./chromedriver\", chrome_options=chrome_options)\n",
    "\n",
    "browser.get(\"http://www.python.org\")\n",
    "assert \"Python\" in browser.title\n",
    "browser.close()\n"
   ]
  },
  {
   "cell_type": "markdown",
   "metadata": {},
   "source": [
    "In contrast, if we check that 'Python' is **not** in title, it launch an AssertionError."
   ]
  },
  {
   "cell_type": "code",
   "execution_count": null,
   "metadata": {},
   "outputs": [],
   "source": [
    "from selenium import webdriver\n",
    "\n",
    "chrome_options = webdriver.ChromeOptions()\n",
    "chrome_options.add_argument(\"--incognito\")\n",
    "\n",
    "browser = webdriver.Chrome(\"./chromedriver\", chrome_options=chrome_options)\n",
    "\n",
    "browser.get(\"http://www.python.org\")\n",
    "assert \"Python\" not in browser.title\n",
    "browser.close()\n"
   ]
  },
  {
   "cell_type": "markdown",
   "metadata": {},
   "source": [
    "So, if we check that 'Asdasd' is not in title, it pass:"
   ]
  },
  {
   "cell_type": "code",
   "execution_count": null,
   "metadata": {},
   "outputs": [],
   "source": [
    "from selenium import webdriver\n",
    "\n",
    "chrome_options = webdriver.ChromeOptions()\n",
    "chrome_options.add_argument(\"--incognito\")\n",
    "\n",
    "browser = webdriver.Chrome(\"./chromedriver\", chrome_options=chrome_options)\n",
    "\n",
    "browser.get(\"http://www.python.org\")\n",
    "assert \"Asdasd\" not in browser.title\n",
    "browser.close()\n"
   ]
  },
  {
   "cell_type": "code",
   "execution_count": null,
   "metadata": {},
   "outputs": [],
   "source": []
  },
  {
   "cell_type": "markdown",
   "metadata": {},
   "source": [
    "## Selenium like Testing Tool"
   ]
  },
  {
   "cell_type": "markdown",
   "metadata": {},
   "source": [
    "Now, let use Selenium like a testing tool, and run a test case.  \n",
    "**Note:**  \n",
    "It's not so easy run test in jupyter, credits to https://medium.com/@vladbezden/using-python-unittest-in-ipython-or-jupyter-732448724e31"
   ]
  },
  {
   "cell_type": "markdown",
   "metadata": {},
   "source": [
    "Let's check that we can use 'assert' instruction. First, an example that pass:"
   ]
  },
  {
   "cell_type": "code",
   "execution_count": 1,
   "metadata": {},
   "outputs": [
    {
     "name": "stderr",
     "output_type": "stream",
     "text": [
      "/usr/local/lib/python3.7/site-packages/ipykernel_launcher.py:11: DeprecationWarning: use options instead of chrome_options\n",
      "  # This is added back by InteractiveShellApp.init_path()\n",
      ".\n",
      "----------------------------------------------------------------------\n",
      "Ran 1 test in 12.150s\n",
      "\n",
      "OK\n"
     ]
    }
   ],
   "source": [
    "# https://selenium-python.readthedocs.io/getting-started.html#example-explained\n",
    "import unittest\n",
    "from selenium import webdriver\n",
    "from selenium.webdriver.common.keys import Keys\n",
    "\n",
    "class PythonOrgSearch1(unittest.TestCase):\n",
    "\n",
    "    def setUp(self):\n",
    "        chrome_options = webdriver.ChromeOptions()\n",
    "        chrome_options.add_argument(\"--incognito\")\n",
    "        self.driver = webdriver.Chrome(\"./chromedriver\", chrome_options=chrome_options)\n",
    "\n",
    "    def test_search_in_python_org(self):\n",
    "        driver = self.driver\n",
    "        driver.get(\"http://www.python.org\")\n",
    "        self.assertIn(\"Python\", driver.title)\n",
    "        elem = driver.find_element_by_name(\"q\")\n",
    "        elem.send_keys(\"pycon\")\n",
    "        elem.send_keys(Keys.RETURN)\n",
    "        assert \"No results found.\" not in driver.page_source\n",
    "\n",
    "    def tearDown(self):\n",
    "        self.driver.close()\n",
    "if __name__ == '__main__':\n",
    "    unittest.main(argv=['first-arg-is-ignored'], exit=False)"
   ]
  },
  {
   "cell_type": "raw",
   "metadata": {},
   "source": [
    "/usr/local/lib/python3.7/site-packages/ipykernel_launcher.py:11: DeprecationWarning: use options instead of chrome_options\n",
    "  # This is added back by InteractiveShellApp.init_path()\n",
    ".\n",
    "----------------------------------------------------------------------\n",
    "Ran 1 test in 7.432s\n",
    "\n",
    "OK"
   ]
  },
  {
   "cell_type": "markdown",
   "metadata": {},
   "source": [
    "Now, an example that not pass:"
   ]
  },
  {
   "cell_type": "code",
   "execution_count": 2,
   "metadata": {},
   "outputs": [
    {
     "name": "stderr",
     "output_type": "stream",
     "text": [
      "/usr/local/lib/python3.7/site-packages/ipykernel_launcher.py:11: DeprecationWarning: use options instead of chrome_options\n",
      "  # This is added back by InteractiveShellApp.init_path()\n",
      ".F\n",
      "======================================================================\n",
      "FAIL: test_search_in_python_org (__main__.PythonOrgSearch2)\n",
      "----------------------------------------------------------------------\n",
      "Traceback (most recent call last):\n",
      "  File \"<ipython-input-2-c7d807c5e19d>\", line 20, in test_search_in_python_org\n",
      "    assert \"No results found.\"  in driver.page_source\n",
      "AssertionError\n",
      "\n",
      "----------------------------------------------------------------------\n",
      "Ran 2 tests in 38.375s\n",
      "\n",
      "FAILED (failures=1)\n"
     ]
    }
   ],
   "source": [
    "# https://selenium-python.readthedocs.io/getting-started.html#example-explained\n",
    "import unittest\n",
    "from selenium import webdriver\n",
    "from selenium.webdriver.common.keys import Keys\n",
    "\n",
    "class PythonOrgSearch2(unittest.TestCase):\n",
    "\n",
    "    def setUp(self):\n",
    "        chrome_options = webdriver.ChromeOptions()\n",
    "        chrome_options.add_argument(\"--incognito\")\n",
    "        self.driver = webdriver.Chrome(\"./chromedriver\", chrome_options=chrome_options)\n",
    "\n",
    "    def test_search_in_python_org(self):\n",
    "        driver = self.driver\n",
    "        driver.get(\"http://www.python.org\")\n",
    "        self.assertIn(\"Python\", driver.title)\n",
    "        elem = driver.find_element_by_name(\"q\")\n",
    "        elem.send_keys(\"pycon\")\n",
    "        elem.send_keys(Keys.RETURN)\n",
    "        assert \"No results found.\"  in driver.page_source\n",
    "\n",
    "    def tearDown(self):\n",
    "        self.driver.close()\n",
    "\n",
    "if __name__ == '__main__':\n",
    "    unittest.main(argv=['first-arg-is-ignored'], exit=False)"
   ]
  },
  {
   "cell_type": "raw",
   "metadata": {},
   "source": [
    "/usr/local/lib/python3.7/site-packages/ipykernel_launcher.py:11: DeprecationWarning: use options instead of chrome_options\n",
    "  # This is added back by InteractiveShellApp.init_path()\n",
    ".F\n",
    "======================================================================\n",
    "FAIL: test_search_in_python_org (__main__.PythonOrgSearch2)\n",
    "----------------------------------------------------------------------\n",
    "Traceback (most recent call last):\n",
    "  File \"<ipython-input-2-c7d807c5e19d>\", line 20, in test_search_in_python_org\n",
    "    assert \"No results found.\"  in driver.page_source\n",
    "AssertionError\n",
    "\n",
    "----------------------------------------------------------------------\n",
    "Ran 2 tests in 38.375s\n",
    "\n",
    "FAILED (failures=1)\n"
   ]
  },
  {
   "cell_type": "code",
   "execution_count": null,
   "metadata": {},
   "outputs": [],
   "source": []
  },
  {
   "cell_type": "code",
   "execution_count": null,
   "metadata": {},
   "outputs": [],
   "source": []
  },
  {
   "cell_type": "code",
   "execution_count": null,
   "metadata": {},
   "outputs": [],
   "source": []
  },
  {
   "cell_type": "code",
   "execution_count": null,
   "metadata": {},
   "outputs": [],
   "source": []
  }
 ],
 "metadata": {
  "kernelspec": {
   "display_name": "Python 3",
   "language": "python",
   "name": "python3"
  },
  "language_info": {
   "codemirror_mode": {
    "name": "ipython",
    "version": 3
   },
   "file_extension": ".py",
   "mimetype": "text/x-python",
   "name": "python",
   "nbconvert_exporter": "python",
   "pygments_lexer": "ipython3",
   "version": "3.7.7"
  }
 },
 "nbformat": 4,
 "nbformat_minor": 4
}
